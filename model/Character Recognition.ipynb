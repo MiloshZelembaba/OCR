{
 "cells": [
  {
   "cell_type": "code",
   "execution_count": 7,
   "metadata": {
    "collapsed": false
   },
   "outputs": [],
   "source": [
    "import keras\n",
    "import numpy as np\n",
    "import pandas as pd\n",
    "import os\n",
    "import struct"
   ]
  },
  {
   "cell_type": "code",
   "execution_count": 8,
   "metadata": {
    "collapsed": false
   },
   "outputs": [],
   "source": [
    "\"\"\"\n",
    "Loosely inspired by http://abel.ee.ucla.edu/cvxopt/_downloads/mnist.py\n",
    "which is GPL licensed.\n",
    "\"\"\"\n",
    "\n",
    "def read(dataset = \"training\", path = \".\"):\n",
    "    \"\"\"\n",
    "    Python function for importing the MNIST data set.  It returns an iterator\n",
    "    of 2-tuples with the first element being the label and the second element\n",
    "    being a numpy.uint8 2D array of pixel data for the given image.\n",
    "    \"\"\"\n",
    "    if dataset is \"training\":\n",
    "        fname_img = os.path.join(path, 'train-images-idx3-ubyte')\n",
    "        fname_lbl = os.path.join(path, 'train-labels-idx1-ubyte')\n",
    "    elif dataset is \"testing\":\n",
    "        fname_img = os.path.join(path, 't10k-images-idx3-ubyte')\n",
    "        fname_lbl = os.path.join(path, 't10k-labels-idx1-ubyte')\n",
    "    else:\n",
    "        print(\"wrong input\")\n",
    "\n",
    "    # Load everything in some numpy arrays\n",
    "    with open(fname_lbl, 'rb') as flbl:\n",
    "        magic, num = struct.unpack(\">II\", flbl.read(8))\n",
    "        lbl = np.fromfile(flbl, dtype=np.int8)\n",
    "\n",
    "    with open(fname_img, 'rb') as fimg:\n",
    "        magic, num, rows, cols = struct.unpack(\">IIII\", fimg.read(16))\n",
    "        img = np.fromfile(fimg, dtype=np.uint8).reshape(len(lbl), rows, cols)\n",
    "\n",
    "    get_img = lambda idx: (lbl[idx], img[idx])\n",
    "\n",
    "    # Create an iterator which returns each image in turn\n",
    "    for i in range(len(lbl)):\n",
    "        yield get_img(i)\n",
    "\n",
    "def show(image):\n",
    "    \"\"\"\n",
    "    Render a given numpy.uint8 2D array of pixel data.\n",
    "    \"\"\"\n",
    "    from matplotlib import pyplot\n",
    "    import matplotlib as mpl\n",
    "    fig = pyplot.figure()\n",
    "    ax = fig.add_subplot(1,1,1)\n",
    "    imgplot = ax.imshow(image, cmap=mpl.cm.Greys)\n",
    "    imgplot.set_interpolation('nearest')\n",
    "    ax.xaxis.set_ticks_position('top')\n",
    "    ax.yaxis.set_ticks_position('left')\n",
    "    pyplot.show()\n",
    "    \n",
    "def create_output_row(num):\n",
    "    newrow = np.array([0,0,0,0,0,0,0,0,0,0])\n",
    "    newrow[num-1] = 1\n",
    "    \n",
    "    return newrow\n",
    "    \n",
    "def create_training_data_output(data, iters = 60000):\n",
    "    A = list()\n",
    "    for i in range(iters):\n",
    "        A.append(create_output_row(data[i][0]))\n",
    "    \n",
    "    return np.array(A)\n",
    "        \n",
    "    \n",
    "def create_training_data_input(data, iters = 60000):\n",
    "    A = list()\n",
    "    for i in range(iters):\n",
    "        A.append(data[i][1].flatten())\n",
    "        \n",
    "    return np.array(A)\n",
    "    "
   ]
  },
  {
   "cell_type": "code",
   "execution_count": 9,
   "metadata": {
    "collapsed": true
   },
   "outputs": [],
   "source": [
    "## create the model\n",
    "model = keras.models.Sequential(layers=[\n",
    "    keras.layers.Dense(input_dim=784, units=16),\n",
    "    keras.layers.Activation(keras.activations.sigmoid),\n",
    "    keras.layers.Dense(units=16),\n",
    "    keras.layers.Activation(keras.activations.sigmoid),\n",
    "    keras.layers.Dense(units=10),\n",
    "    keras.layers.Activation(keras.activations.sigmoid)\n",
    "])\n",
    "model.compile(optimizer=keras.optimizers.SGD(lr=0.5),loss='mse')"
   ]
  },
  {
   "cell_type": "code",
   "execution_count": 10,
   "metadata": {
    "collapsed": true
   },
   "outputs": [],
   "source": [
    "# format the training data OUTPUT\n",
    "training_data_raw = list(read(\"training\", \"../data/\"))\n",
    "training_data_output = create_training_data_output(training_data_raw)\n",
    "# format the training data INPUT\n",
    "training_data_raw = list(read(\"training\", \"../data/\"))\n",
    "training_data_input = create_training_data_input(training_data_raw)\n",
    "\n",
    "# format the testing data OUTPUT\n",
    "testing_data_raw = list(read(\"testing\", \"../data/\"))\n",
    "testing_data_output = create_training_data_output(testing_data_raw, iters=10000)\n",
    "# format the testing data INPUT\n",
    "testing_data_raw = list(read(\"testing\", \"../data/\"))\n",
    "testing_data_input = create_training_data_input(testing_data_raw, iters=10000)\n"
   ]
  },
  {
   "cell_type": "code",
   "execution_count": 11,
   "metadata": {
    "collapsed": true
   },
   "outputs": [],
   "source": [
    "def train_model(epochs, model=model):\n",
    "    model.fit(training_data_input,training_data_output,epochs=epochs,verbose=False)"
   ]
  },
  {
   "cell_type": "code",
   "execution_count": 12,
   "metadata": {
    "collapsed": false
   },
   "outputs": [],
   "source": [
    "def get_num_correct(data_out, data_in, iters=60000):\n",
    "    total = 0\n",
    "    for i in range(iters):\n",
    "        a = list()\n",
    "        a.append(data_in[i])\n",
    "        a = np.array(a)\n",
    "        pred = model.predict(a)[0]\n",
    "        \n",
    "        m = max(pred)\n",
    "        pos1 = [i for i, j in enumerate(pred) if j == m]\n",
    "        \n",
    "        ans = max(data_out[i])\n",
    "        pos2 = [i for i, j in enumerate(data_out[i]) if j == ans]\n",
    "        \n",
    "        if pos1 == pos2:\n",
    "            total += 1\n",
    "            \n",
    "    return total\n",
    "\n",
    "def test_model():\n",
    "    return get_num_correct(testing_data_output,testing_data_input ,iters=10000)"
   ]
  },
  {
   "cell_type": "code",
   "execution_count": 23,
   "metadata": {
    "collapsed": false
   },
   "outputs": [],
   "source": [
    "\n",
    "for i in range(10):\n",
    "    train_model(1)\n",
    "    results.append(test_model())"
   ]
  },
  {
   "cell_type": "code",
   "execution_count": 24,
   "metadata": {
    "collapsed": false
   },
   "outputs": [
    {
     "data": {
      "image/png": "[encoded data removed]",
      "text/plain": [
       "<matplotlib.figure.Figure at 0x12b5800b8>"
      ]
     },
     "metadata": {},
     "output_type": "display_data"
    }
   ],
   "source": [
    "import matplotlib.pyplot as plt\n",
    "plt.plot(results)\n",
    "plt.show()"
   ]
  },
  {
   "cell_type": "code",
   "execution_count": null,
   "metadata": {
    "collapsed": true
   },
   "outputs": [],
   "source": []
  }
 ],
 "metadata": {
  "kernelspec": {
   "display_name": "Python 3",
   "language": "python",
   "name": "python3"
  },
  "language_info": {
   "codemirror_mode": {
    "name": "ipython",
    "version": 3
   },
   "file_extension": ".py",
   "mimetype": "text/x-python",
   "name": "python",
   "nbconvert_exporter": "python",
   "pygments_lexer": "ipython3",
   "version": "3.6.0"
  }
 },
 "nbformat": 4,
 "nbformat_minor": 2
}
